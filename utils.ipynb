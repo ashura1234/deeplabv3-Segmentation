{
  "nbformat": 4,
  "nbformat_minor": 0,
  "metadata": {
    "kernelspec": {
      "display_name": "Python 3",
      "language": "python",
      "name": "python3"
    },
    "language_info": {
      "codemirror_mode": {
        "name": "ipython",
        "version": 3
      },
      "file_extension": ".py",
      "mimetype": "text/x-python",
      "name": "python",
      "nbconvert_exporter": "python",
      "pygments_lexer": "ipython3",
      "version": "3.7.9"
    },
    "colab": {
      "name": "utils.ipynb",
      "provenance": [],
      "collapsed_sections": [],
      "include_colab_link": true
    }
  },
  "cells": [
    {
      "cell_type": "markdown",
      "metadata": {
        "id": "view-in-github",
        "colab_type": "text"
      },
      "source": [
        "<a href=\"https://colab.research.google.com/github/ashura1234/deeplabv3-Segmentation/blob/main/utils.ipynb\" target=\"_parent\"><img src=\"https://colab.research.google.com/assets/colab-badge.svg\" alt=\"Open In Colab\"/></a>"
      ]
    },
    {
      "cell_type": "code",
      "metadata": {
        "id": "tOHpkItgqLeT"
      },
      "source": [
        "import math\n",
        "import random\n",
        "import numpy as np\n",
        "import torch\n",
        "import torchvision.transforms as transforms\n",
        "from PIL import Image"
      ],
      "execution_count": null,
      "outputs": []
    },
    {
      "cell_type": "code",
      "metadata": {
        "id": "BfozXLqQqLeX"
      },
      "source": [
        "class AverageMeter(object):\n",
        "    def __init__(self):\n",
        "        self.val = None\n",
        "        self.sum = None\n",
        "        self.cnt = None\n",
        "        self.avg = None\n",
        "        self.ema = None\n",
        "        self.initialized = False\n",
        "\n",
        "    def update(self, val, n=1):\n",
        "        if not self.initialized:\n",
        "            self.initialize(val, n)\n",
        "        else:\n",
        "            self.add(val, n)\n",
        "\n",
        "    def initialize(self, val, n):\n",
        "        self.val = val\n",
        "        self.sum = val * n\n",
        "        self.cnt = n\n",
        "        self.avg = val\n",
        "        self.ema = val\n",
        "        self.initialized = True\n",
        "\n",
        "    def add(self, val, n):\n",
        "        self.val = val\n",
        "        self.sum += val * n\n",
        "        self.cnt += n\n",
        "        self.avg = self.sum / self.cnt\n",
        "        self.ema = self.ema * 0.99 + self.val * 0.01"
      ],
      "execution_count": null,
      "outputs": []
    },
    {
      "cell_type": "code",
      "metadata": {
        "id": "R42o6AmTqLea"
      },
      "source": [
        "def inter_and_union(pred, mask, num_class):\n",
        "    pred = np.asarray(pred, dtype=np.uint8).copy()\n",
        "    mask = np.asarray(mask, dtype=np.uint8).copy()\n",
        "\n",
        "    # 255 -> 0\n",
        "    pred += 1\n",
        "    mask += 1\n",
        "    pred = pred * (mask > 0)\n",
        "\n",
        "    inter = pred * (pred == mask)\n",
        "    (area_inter, _) = np.histogram(inter, bins=num_class, range=(1, num_class))\n",
        "    (area_pred, _) = np.histogram(pred, bins=num_class, range=(1, num_class))\n",
        "    (area_mask, _) = np.histogram(mask, bins=num_class, range=(1, num_class))\n",
        "    area_union = area_pred + area_mask - area_inter\n",
        "\n",
        "    return (area_inter, area_union)"
      ],
      "execution_count": null,
      "outputs": []
    },
    {
      "cell_type": "code",
      "metadata": {
        "id": "ticUKIn6qLed"
      },
      "source": [
        "def preprocess(image, mask, flip=False, scale=None, crop=None):\n",
        "    if flip:\n",
        "        if random.random() < 0.5:\n",
        "            image = image.transpose(Image.FLIP_LEFT_RIGHT)\n",
        "            mask = mask.transpose(Image.FLIP_LEFT_RIGHT)\n",
        "    if scale:\n",
        "        w, h = image.size\n",
        "        rand_log_scale = math.log(scale[0], 2) + random.random() * (math.log(scale[1], 2) - math.log(scale[0], 2))\n",
        "        random_scale = math.pow(2, rand_log_scale)\n",
        "        new_size = (int(round(w * random_scale)), int(round(h * random_scale)))\n",
        "        image = image.resize(new_size, Image.ANTIALIAS)\n",
        "        mask = mask.resize(new_size, Image.NEAREST)\n",
        "\n",
        "    data_transforms = transforms.Compose([\n",
        "          transforms.ToTensor(),\n",
        "          transforms.Normalize([0.485, 0.456, 0.406], [0.229, 0.224, 0.225])\n",
        "        ])\n",
        "    image = data_transforms(image)\n",
        "    mask = torch.LongTensor(np.array(mask).astype(np.int64))\n",
        "\n",
        "    if crop:\n",
        "        h, w = image.shape[1], image.shape[2]\n",
        "        pad_tb = max(0, crop[0] - h)\n",
        "        pad_lr = max(0, crop[1] - w)\n",
        "        image = torch.nn.ZeroPad2d((0, pad_lr, 0, pad_tb))(image)\n",
        "        mask = torch.nn.ConstantPad2d((0, pad_lr, 0, pad_tb), 255)(mask)\n",
        "\n",
        "        h, w = image.shape[1], image.shape[2]\n",
        "        i = random.randint(0, h - crop[0])\n",
        "        j = random.randint(0, w - crop[1])\n",
        "        image = image[:, i:i + crop[0], j:j + crop[1]]\n",
        "        mask = mask[i:i + crop[0], j:j + crop[1]]\n",
        "\n",
        "    return image, mask"
      ],
      "execution_count": null,
      "outputs": []
    },
    {
      "cell_type": "code",
      "metadata": {
        "id": "j3Bs3cLNqR7x"
      },
      "source": [
        ""
      ],
      "execution_count": null,
      "outputs": []
    }
  ]
}