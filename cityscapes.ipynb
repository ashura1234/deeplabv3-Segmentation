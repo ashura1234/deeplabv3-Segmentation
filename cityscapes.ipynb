{
  "nbformat": 4,
  "nbformat_minor": 0,
  "metadata": {
    "kernelspec": {
      "display_name": "Python 3",
      "language": "python",
      "name": "python3"
    },
    "language_info": {
      "codemirror_mode": {
        "name": "ipython",
        "version": 3
      },
      "file_extension": ".py",
      "mimetype": "text/x-python",
      "name": "python",
      "nbconvert_exporter": "python",
      "pygments_lexer": "ipython3",
      "version": "3.7.9"
    },
    "colab": {
      "name": "cityscapes.ipynb",
      "provenance": [],
      "collapsed_sections": [],
      "include_colab_link": true
    }
  },
  "cells": [
    {
      "cell_type": "markdown",
      "metadata": {
        "id": "view-in-github",
        "colab_type": "text"
      },
      "source": [
        "<a href=\"https://colab.research.google.com/github/ashura1234/deeplabv3-Segmentation/blob/main/cityscapes.ipynb\" target=\"_parent\"><img src=\"https://colab.research.google.com/assets/colab-badge.svg\" alt=\"Open In Colab\"/></a>"
      ]
    },
    {
      "cell_type": "code",
      "metadata": {
        "id": "0Ght_ycGwUGe",
        "outputId": "6542ffd6-9c71-4592-980c-5c8ae37872ce"
      },
      "source": [
        "from __future__ import print_function\n",
        "\n",
        "import import_ipynb\n",
        "import torch.utils.data as data\n",
        "import os\n",
        "import random\n",
        "import glob\n",
        "from PIL import Image\n",
        "from utils import preprocess"
      ],
      "execution_count": null,
      "outputs": [
        {
          "output_type": "stream",
          "text": [
            "importing Jupyter notebook from utils.ipynb\n"
          ],
          "name": "stdout"
        }
      ]
    },
    {
      "cell_type": "code",
      "metadata": {
        "id": "P1tKHFTCwUGk"
      },
      "source": [
        "_FOLDERS_MAP = {\n",
        "    'image': 'leftImg8bit',\n",
        "    'label': 'gtFine',\n",
        "}\n",
        "\n",
        "_POSTFIX_MAP = {\n",
        "    'image': '_leftImg8bit',\n",
        "    'label': '_gtFine_labelTrainIds',\n",
        "}\n",
        "\n",
        "_DATA_FORMAT_MAP = {\n",
        "    'image': 'png',\n",
        "    'label': 'png',\n",
        "}"
      ],
      "execution_count": null,
      "outputs": []
    },
    {
      "cell_type": "code",
      "metadata": {
        "id": "plQgoQS2wUGo"
      },
      "source": [
        "class Cityscapes(data.Dataset):\n",
        "    CLASSES = [\n",
        "      'road', 'sidewalk', 'building', 'wall', 'fence', 'pole', 'traffic light',\n",
        "      'traffic sign', 'vegetation', 'terrain', 'sky', 'person', 'rider', 'car',\n",
        "      'truck', 'bus', 'train', 'motorcycle', 'bicycle'\n",
        "    ]\n",
        "\n",
        "    def __init__(self, root, train=True, transform=None, target_transform=None, download=False, crop_size=None):\n",
        "        self.root = root\n",
        "        self.transform = transform\n",
        "        self.target_transform = target_transform\n",
        "        self.train = train\n",
        "        self.crop_size = crop_size\n",
        "\n",
        "        if download:\n",
        "            self.download()\n",
        "\n",
        "        dataset_split = 'train' if self.train else 'val'\n",
        "        self.images = self._get_files('image', dataset_split)\n",
        "        self.masks = self._get_files('label', dataset_split)\n",
        "\n",
        "    def __getitem__(self, index):\n",
        "        _img = Image.open(self.images[index]).convert('RGB')\n",
        "        _target = Image.open(self.masks[index])\n",
        "\n",
        "        _img, _target = preprocess(_img, _target,\n",
        "                                   flip=True if self.train else False,\n",
        "                                   scale=(0.5, 2.0) if self.train else None,\n",
        "                                   crop=(self.crop_size, self.crop_size) if self.train else (1025, 2049))\n",
        "\n",
        "        if self.transform is not None:\n",
        "            _img = self.transform(_img)\n",
        "\n",
        "        if self.target_transform is not None:\n",
        "            _target = self.target_transform(_target)\n",
        "\n",
        "        return _img, _target\n",
        "\n",
        "    def _get_files(self, data, dataset_split):\n",
        "        pattern = '*%s.%s' % (_POSTFIX_MAP[data], _DATA_FORMAT_MAP[data])\n",
        "        search_files = os.path.join(\n",
        "            self.root, _FOLDERS_MAP[data], dataset_split, '*', pattern)\n",
        "        filenames = glob.glob(search_files)\n",
        "        print(\"Read\", len(filenames), \"files\")\n",
        "        return sorted(filenames)\n",
        "\n",
        "    def __len__(self):\n",
        "        return len(self.images)\n",
        "\n",
        "    def download(self):\n",
        "        raise NotImplementedError('Automatic download not yet implemented.')\n"
      ],
      "execution_count": null,
      "outputs": []
    }
  ]
}