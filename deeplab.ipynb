{
  "nbformat": 4,
  "nbformat_minor": 0,
  "metadata": {
    "kernelspec": {
      "display_name": "Python 3",
      "language": "python",
      "name": "python3"
    },
    "language_info": {
      "codemirror_mode": {
        "name": "ipython",
        "version": 3
      },
      "file_extension": ".py",
      "mimetype": "text/x-python",
      "name": "python",
      "nbconvert_exporter": "python",
      "pygments_lexer": "ipython3",
      "version": "3.7.9"
    },
    "colab": {
      "name": "deeplab.ipynb",
      "provenance": [],
      "collapsed_sections": [],
      "include_colab_link": true
    }
  },
  "cells": [
    {
      "cell_type": "markdown",
      "metadata": {
        "id": "view-in-github",
        "colab_type": "text"
      },
      "source": [
        "<a href=\"https://colab.research.google.com/github/ashura1234/deeplabv3-Segmentation/blob/main/deeplab.ipynb\" target=\"_parent\"><img src=\"https://colab.research.google.com/assets/colab-badge.svg\" alt=\"Open In Colab\"/></a>"
      ]
    },
    {
      "cell_type": "code",
      "metadata": {
        "id": "x_4T91kTqXOp"
      },
      "source": [
        "import torch\n",
        "import torch.nn as nn\n",
        "import math\n",
        "import torch.utils.model_zoo as model_zoo\n",
        "from torch.nn import functional as F"
      ],
      "execution_count": null,
      "outputs": []
    },
    {
      "cell_type": "code",
      "metadata": {
        "id": "RGifSW-cqXOt"
      },
      "source": [
        "__all__ = ['ResNet', 'resnet50', 'resnet101', 'resnet152']\n",
        "\n",
        "\n",
        "model_urls = {\n",
        "    'resnet50': 'https://download.pytorch.org/models/resnet50-19c8e357.pth',\n",
        "    'resnet101': 'https://download.pytorch.org/models/resnet101-5d3b4d8f.pth',\n",
        "    'resnet152': 'https://download.pytorch.org/models/resnet152-b121ed2d.pth',\n",
        "}"
      ],
      "execution_count": null,
      "outputs": []
    },
    {
      "cell_type": "code",
      "metadata": {
        "id": "94RqcGu5qXOw"
      },
      "source": [
        "class Conv2d(nn.Conv2d):\n",
        "\n",
        "    def __init__(self, in_channels, out_channels, kernel_size, stride=1,\n",
        "                 padding=0, dilation=1, groups=1, bias=True):\n",
        "        super(Conv2d, self).__init__(in_channels, out_channels, kernel_size, stride,\n",
        "                 padding, dilation, groups, bias)\n",
        "\n",
        "    def forward(self, x):\n",
        "        # return super(Conv2d, self).forward(x)\n",
        "        weight = self.weight\n",
        "        weight_mean = weight.mean(dim=1, keepdim=True).mean(dim=2,\n",
        "                                  keepdim=True).mean(dim=3, keepdim=True)\n",
        "        weight = weight - weight_mean\n",
        "        std = weight.view(weight.size(0), -1).std(dim=1).view(-1, 1, 1, 1) + 1e-5\n",
        "        weight = weight / std.expand_as(weight)\n",
        "        return F.conv2d(x, weight, self.bias, self.stride,\n",
        "                        self.padding, self.dilation, self.groups)"
      ],
      "execution_count": null,
      "outputs": []
    },
    {
      "cell_type": "code",
      "metadata": {
        "id": "RDIrX_bEqXOz"
      },
      "source": [
        "class ASPP(nn.Module):\n",
        "\n",
        "    def __init__(self, C, depth, num_classes, conv=nn.Conv2d, norm=nn.BatchNorm2d, momentum=0.0003, mult=1):\n",
        "        super(ASPP, self).__init__()\n",
        "        self._C = C\n",
        "        self._depth = depth\n",
        "        self._num_classes = num_classes\n",
        "\n",
        "        self.global_pooling = nn.AdaptiveAvgPool2d(1)\n",
        "        self.relu = nn.ReLU(inplace=True)\n",
        "        self.aspp1 = conv(C, depth, kernel_size=1, stride=1, bias=False)\n",
        "        self.aspp2 = conv(C, depth, kernel_size=3, stride=1,\n",
        "                               dilation=int(6*mult), padding=int(6*mult),\n",
        "                               bias=False)\n",
        "        self.aspp3 = conv(C, depth, kernel_size=3, stride=1,\n",
        "                               dilation=int(12*mult), padding=int(12*mult),\n",
        "                               bias=False)\n",
        "        self.aspp4 = conv(C, depth, kernel_size=3, stride=1,\n",
        "                               dilation=int(18*mult), padding=int(18*mult),\n",
        "                               bias=False)\n",
        "        self.aspp5 = conv(C, depth, kernel_size=1, stride=1, bias=False)\n",
        "        self.aspp1_bn = norm(depth, momentum)\n",
        "        self.aspp2_bn = norm(depth, momentum)\n",
        "        self.aspp3_bn = norm(depth, momentum)\n",
        "        self.aspp4_bn = norm(depth, momentum)\n",
        "        self.aspp5_bn = norm(depth, momentum)\n",
        "        self.conv2 = conv(depth * 5, depth, kernel_size=1, stride=1,\n",
        "                               bias=False)\n",
        "        self.bn2 = norm(depth, momentum)\n",
        "        self.conv3 = nn.Conv2d(depth, num_classes, kernel_size=1, stride=1)\n",
        "\n",
        "    def forward(self, x):\n",
        "        x1 = self.aspp1(x)\n",
        "        x1 = self.aspp1_bn(x1)\n",
        "        x1 = self.relu(x1)\n",
        "        x2 = self.aspp2(x)\n",
        "        x2 = self.aspp2_bn(x2)\n",
        "        x2 = self.relu(x2)\n",
        "        x3 = self.aspp3(x)\n",
        "        x3 = self.aspp3_bn(x3)\n",
        "        x3 = self.relu(x3)\n",
        "        x4 = self.aspp4(x)\n",
        "        x4 = self.aspp4_bn(x4)\n",
        "        x4 = self.relu(x4)\n",
        "        x5 = self.global_pooling(x)\n",
        "        x5 = self.aspp5(x5)\n",
        "        x5 = self.aspp5_bn(x5)\n",
        "        x5 = self.relu(x5)\n",
        "        x5 = nn.Upsample((x.shape[2], x.shape[3]), mode='bilinear',\n",
        "                         align_corners=True)(x5)\n",
        "        x = torch.cat((x1, x2, x3, x4, x5), 1)\n",
        "        x = self.conv2(x)\n",
        "        x = self.bn2(x)\n",
        "        x = self.relu(x)\n",
        "        x = self.conv3(x)\n",
        "\n",
        "        return x"
      ],
      "execution_count": null,
      "outputs": []
    },
    {
      "cell_type": "code",
      "metadata": {
        "id": "XS_Cz_L8qXO2"
      },
      "source": [
        "class Bottleneck(nn.Module):\n",
        "    expansion = 4\n",
        "\n",
        "    def __init__(self, inplanes, planes, stride=1, downsample=None, dilation=1, conv=None, norm=None):\n",
        "        super(Bottleneck, self).__init__()\n",
        "        self.conv1 = conv(inplanes, planes, kernel_size=1, bias=False)\n",
        "        self.bn1 = norm(planes)\n",
        "        self.conv2 = conv(planes, planes, kernel_size=3, stride=stride,\n",
        "                               dilation=dilation, padding=dilation, bias=False)\n",
        "        self.bn2 = norm(planes)\n",
        "        self.conv3 = conv(planes, planes * self.expansion, kernel_size=1, bias=False)\n",
        "        self.bn3 = norm(planes * self.expansion)\n",
        "        self.relu = nn.ReLU(inplace=True)\n",
        "        self.downsample = downsample\n",
        "        self.stride = stride\n",
        "\n",
        "    def forward(self, x):\n",
        "        residual = x\n",
        "\n",
        "        out = self.conv1(x)\n",
        "        out = self.bn1(out)\n",
        "        out = self.relu(out)\n",
        "\n",
        "        out = self.conv2(out)\n",
        "        out = self.bn2(out)\n",
        "        out = self.relu(out)\n",
        "\n",
        "        out = self.conv3(out)\n",
        "        out = self.bn3(out)\n",
        "\n",
        "        if self.downsample is not None:\n",
        "            residual = self.downsample(x)\n",
        "\n",
        "        out += residual\n",
        "        out = self.relu(out)\n",
        "\n",
        "        return out"
      ],
      "execution_count": null,
      "outputs": []
    },
    {
      "cell_type": "code",
      "metadata": {
        "id": "TA0Mke__qXO5"
      },
      "source": [
        "class ResNet(nn.Module):\n",
        "\n",
        "    def __init__(self, block, layers, num_classes, num_groups=None, weight_std=False, beta=False):\n",
        "        self.inplanes = 64\n",
        "        self.norm = lambda planes, momentum=0.05: nn.BatchNorm2d(planes, momentum=momentum) if num_groups is None else nn.GroupNorm(num_groups, planes)\n",
        "        self.conv = Conv2d if weight_std else nn.Conv2d\n",
        "\n",
        "        super(ResNet, self).__init__()\n",
        "        if not beta:\n",
        "            self.conv1 = self.conv(3, 64, kernel_size=7, stride=2, padding=3,\n",
        "                                   bias=False)\n",
        "        else:\n",
        "            self.conv1 = nn.Sequential(\n",
        "                self.conv(3, 64, 3, stride=2, padding=1, bias=False),\n",
        "                self.conv(64, 64, 3, stride=1, padding=1, bias=False),\n",
        "                self.conv(64, 64, 3, stride=1, padding=1, bias=False))\n",
        "        self.bn1 = self.norm(64)\n",
        "        self.relu = nn.ReLU(inplace=True)\n",
        "        self.maxpool = nn.MaxPool2d(kernel_size=3, stride=2, padding=1)\n",
        "        self.layer1 = self._make_layer(block, 64, layers[0])\n",
        "        self.layer2 = self._make_layer(block, 128, layers[1], stride=2)\n",
        "        self.layer3 = self._make_layer(block, 256, layers[2], stride=2)\n",
        "        self.layer4 = self._make_layer(block, 512, layers[3], stride=1,\n",
        "                                       dilation=2)\n",
        "        self.aspp = ASPP(512 * block.expansion, 256, num_classes, conv=self.conv, norm=self.norm)\n",
        "\n",
        "        for m in self.modules():\n",
        "            if isinstance(m, self.conv):\n",
        "                n = m.kernel_size[0] * m.kernel_size[1] * m.out_channels\n",
        "                m.weight.data.normal_(0, math.sqrt(2. / n))\n",
        "            elif isinstance(m, nn.BatchNorm2d) or isinstance(m, nn.GroupNorm):\n",
        "                m.weight.data.fill_(1)\n",
        "                m.bias.data.zero_()\n",
        "\n",
        "    def _make_layer(self, block, planes, blocks, stride=1, dilation=1):\n",
        "        downsample = None\n",
        "        if stride != 1 or dilation != 1 or self.inplanes != planes * block.expansion:\n",
        "            downsample = nn.Sequential(\n",
        "                self.conv(self.inplanes, planes * block.expansion,\n",
        "                          kernel_size=1, stride=stride, dilation=max(1, dilation/2), bias=False),\n",
        "                self.norm(planes * block.expansion),\n",
        "            )\n",
        "\n",
        "        layers = []\n",
        "        layers.append(block(self.inplanes, planes, stride, downsample, dilation=max(1, dilation/2), conv=self.conv, norm=self.norm))\n",
        "        self.inplanes = planes * block.expansion\n",
        "        for i in range(1, blocks):\n",
        "            layers.append(block(self.inplanes, planes, dilation=dilation, conv=self.conv, norm=self.norm))\n",
        "\n",
        "        return nn.Sequential(*layers)\n",
        "\n",
        "    def forward(self, x):\n",
        "        size = (x.shape[2], x.shape[3])\n",
        "        x = self.conv1(x)\n",
        "        x = self.bn1(x)\n",
        "        x = self.relu(x)\n",
        "        x = self.maxpool(x)\n",
        "\n",
        "        x = self.layer1(x)\n",
        "        x = self.layer2(x)\n",
        "        x = self.layer3(x)\n",
        "        x = self.layer4(x)\n",
        "\n",
        "        x = self.aspp(x)\n",
        "        x = nn.Upsample(size, mode='bilinear', align_corners=True)(x)\n",
        "        return x"
      ],
      "execution_count": null,
      "outputs": []
    },
    {
      "cell_type": "code",
      "metadata": {
        "id": "xMqNwsRmqXO7"
      },
      "source": [
        "def resnet50(pretrained=False, **kwargs):\n",
        "    \"\"\"Constructs a ResNet-50 model.\n",
        "    Args:\n",
        "        pretrained (bool): If True, returns a model pre-trained on ImageNet\n",
        "    \"\"\"\n",
        "    model = ResNet(Bottleneck, [3, 4, 6, 3], **kwargs)\n",
        "    if pretrained:\n",
        "        model.load_state_dict(model_zoo.load_url(model_urls['resnet50']))\n",
        "    return model"
      ],
      "execution_count": null,
      "outputs": []
    },
    {
      "cell_type": "code",
      "metadata": {
        "id": "g05isBDZqXPB"
      },
      "source": [
        "def resnet101(pretrained=False, num_groups=None, weight_std=False, **kwargs):\n",
        "    \"\"\"Constructs a ResNet-101 model.\n",
        "    Args:\n",
        "        pretrained (bool): If True, returns a model pre-trained on ImageNet\n",
        "    \"\"\"\n",
        "    model = ResNet(Bottleneck, [3, 4, 23, 3], num_groups=num_groups, weight_std=weight_std, **kwargs)\n",
        "    if pretrained:\n",
        "        model_dict = model.state_dict()\n",
        "        if num_groups and weight_std:\n",
        "            pretrained_dict = torch.load('data/R-101-GN-WS.pth.tar')\n",
        "            overlap_dict = {k[7:]: v for k, v in pretrained_dict.items() if k[7:] in model_dict}\n",
        "            assert len(overlap_dict) == 312\n",
        "        elif not num_groups and not weight_std:\n",
        "            pretrained_dict = model_zoo.load_url(model_urls['resnet101'])\n",
        "            overlap_dict = {k: v for k, v in pretrained_dict.items() if k in model_dict}\n",
        "        else:\n",
        "            raise ValueError('Currently only support BN or GN+WS')\n",
        "        model_dict.update(overlap_dict)\n",
        "        model.load_state_dict(model_dict)\n",
        "    return model"
      ],
      "execution_count": null,
      "outputs": []
    },
    {
      "cell_type": "code",
      "metadata": {
        "id": "X37ci-KeqXPD"
      },
      "source": [
        "def resnet152(pretrained=False, **kwargs):\n",
        "    \"\"\"Constructs a ResNet-152 model.\n",
        "    Args:\n",
        "        pretrained (bool): If True, returns a model pre-trained on ImageNet\n",
        "    \"\"\"\n",
        "    model = ResNet(Bottleneck, [3, 8, 36, 3], **kwargs)\n",
        "    if pretrained:\n",
        "        model.load_state_dict(model_zoo.load_url(model_urls['resnet152']))\n",
        "    return model"
      ],
      "execution_count": null,
      "outputs": []
    },
    {
      "cell_type": "code",
      "metadata": {
        "id": "n_yDTkcUqXPG"
      },
      "source": [
        ""
      ],
      "execution_count": null,
      "outputs": []
    }
  ]
}